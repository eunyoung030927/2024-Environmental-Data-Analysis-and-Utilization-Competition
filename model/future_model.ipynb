{
 "cells": [
  {
   "cell_type": "code",
   "execution_count": 5,
   "metadata": {},
   "outputs": [
    {
     "data": {
      "text/plain": [
       "SVC(C=14547.641687966585, cache_size=43605.932291666664,\n",
       "    class_weight='balanced', gamma=0.027760342173282767, max_iter=-1.0,\n",
       "    random_state=1, shrinking=False, tol=2.6344220036014925e-05)"
      ]
     },
     "execution_count": 5,
     "metadata": {},
     "output_type": "execute_result"
    }
   ],
   "source": [
    "import pandas as pd\n",
    "import matplotlib.pyplot as plt\n",
    "import numpy as np\n",
    "import pickle, os\n",
    "\n",
    "# 모델 파일 경로\n",
    "model_filepath = '../data/훈련용/best_model_v1.pkl'\n",
    "\n",
    "# 모델 불러오기\n",
    "with open(model_filepath, 'rb') as file:\n",
    "    classification_model = pickle.load(file)\n",
    "\n",
    "classification_model"
   ]
  },
  {
   "cell_type": "code",
   "execution_count": null,
   "metadata": {},
   "outputs": [],
   "source": []
  }
 ],
 "metadata": {
  "kernelspec": {
   "display_name": "Python 3",
   "language": "python",
   "name": "python3"
  },
  "language_info": {
   "codemirror_mode": {
    "name": "ipython",
    "version": 3
   },
   "file_extension": ".py",
   "mimetype": "text/x-python",
   "name": "python",
   "nbconvert_exporter": "python",
   "pygments_lexer": "ipython3",
   "version": "3.10.5"
  }
 },
 "nbformat": 4,
 "nbformat_minor": 2
}
