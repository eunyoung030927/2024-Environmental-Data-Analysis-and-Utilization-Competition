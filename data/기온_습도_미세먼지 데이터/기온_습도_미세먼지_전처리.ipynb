{
 "cells": [
  {
   "cell_type": "code",
   "execution_count": 1,
   "metadata": {},
   "outputs": [],
   "source": [
    "import pandas as pd\n",
    "import os"
   ]
  },
  {
   "cell_type": "code",
   "execution_count": null,
   "metadata": {},
   "outputs": [],
   "source": [
    "# 23년도 데이터로 매핑할 dictionary 만들기\n",
    "# 행정동 있는 데이터 경로 아무거나\n",
    "df_mapping = pd.read_csv(r\"C:\\Users\\eunyo\\Desktop\\FOM\\environment contest\\기온_습도_미세먼지\\S-DoT_NATURE_2023년\\S-DoT_NATURE_2023.01.02-01.08.csv\", encoding=\"cp949\", index_col=False)\n",
    "\n",
    "df_mapping = df_mapping.drop_duplicates(subset=\"시리얼\", keep=\"first\") # 시리얼 unique인 값만\n",
    "\n",
    "mapping = dict(zip(df_mapping[\"시리얼\"], df_mapping[\"행정동\"])) # 매핑할 dict 생성\n",
    "\n",
    "# 행정동 이름이 정수형으로 되어있는것 제거\n",
    "mapping = {s:int(n) if n.lstrip(\"-\").isdigit() else n for s,n in mapping.items()}\n",
    "mapping = {s:n for s,n in mapping.items() if not isinstance(n,int)}"
   ]
  },
  {
   "cell_type": "code",
   "execution_count": null,
   "metadata": {},
   "outputs": [],
   "source": [
    "# 간단한 전처리 함수\n",
    "def preprocessing_2022(df):\n",
    "    # df에 매핑\n",
    "    df[\"행정동\"] = df[\"시리얼\"].replace(mapping)\n",
    "\n",
    "    #필요한 열들로 df 재구성\n",
    "    keep = [\"행정동\", \"기온(℃)\", \"상대습도( %)\", \"초미세먼지 보정(㎍/㎥)\", \"미세먼지 보정(㎍/㎥)\", \"등록일자\"]\n",
    "    df = df[keep]\n",
    "\n",
    "    # 열들 이름, 위치 변경\n",
    "    df = df.rename(columns={\"기온(℃)\":\"기온\", \"상대습도( %)\":\"상대습도\", \"초미세먼지 보정(㎍/㎥)\":\"초미세먼지\", \"미세먼지 보정(㎍/㎥)\":\"미세먼지\"})\n",
    "    df = df[[\"등록일자\", \"행정동\", \"기온\", \"상대습도\", \"초미세먼지\", \"미세먼지\"]]\n",
    "\n",
    "    # df[\"등록일자\"] = pd.to_datetime(df[\"등록일자\"]).dt.strftime(\"%Y-%m-%d\") # 날짜 형식 변경\n",
    "    def fun(data):\n",
    "        data = str(data).split()[0]\n",
    "        return data\n",
    "\n",
    "    df[\"등록일자\"] = df['등록일자'].apply(fun)\n",
    "\n",
    "    return df\n",
    "\n",
    "def preprocessing_2023(df):\n",
    "    keep = [\"행정동\", \"온도 평균(℃)\", \"습도 평균(%)\", \"초미세먼지 평균(㎍/㎥)\", \"미세먼지 평균(㎍/㎥)\", \"등록일시\"]\n",
    "    df = df[keep]\n",
    "\n",
    "    df = df.rename(columns={\"온도 평균(℃)\":\"기온\", \"습도 평균(%)\":\"상대습도\", \"초미세먼지 평균(㎍/㎥)\":\"초미세먼지\", \"미세먼지 평균(㎍/㎥)\":\"미세먼지\", \"등록일시\":\"등록일자\"})\n",
    "    df = df[[\"등록일자\", \"행정동\", \"기온\", \"상대습도\", \"초미세먼지\", \"미세먼지\"]]\n",
    "\n",
    "    def fun(data):\n",
    "        data = str(data).split()[0]\n",
    "        return data\n",
    "\n",
    "    df[\"등록일자\"] = df['등록일자'].apply(fun)"
   ]
  },
  {
   "cell_type": "code",
   "execution_count": null,
   "metadata": {},
   "outputs": [],
   "source": [
    "def preprocessing(data, file_name):\n",
    "    global use\n",
    "    try:\n",
    "        if use:\n",
    "            data = preprocessing_2022(data)\n",
    "        else:\n",
    "            data = preprocessing_2023(data)\n",
    "\n",
    "    except KeyError: # ParserError 발생하면 해당 행 무시\n",
    "        if use:\n",
    "            use = False\n",
    "            print(f\"\\\"{file_name}\\\" 에서 KeyError 발생\")\n",
    "            print(\"전처리 방식 변경(2022 -> 2023)\")\n",
    "            data = preprocessing_2023(data)\n",
    "        else:\n",
    "            use = True\n",
    "            print(f\"\\\"{file_name}\\\" 에서 KeyError 발생\")\n",
    "            print(\"전처리 방식 변경(2023 -> 2022)\")\n",
    "            data = preprocessing_2022(data)\n",
    "\n",
    "    return data"
   ]
  },
  {
   "cell_type": "code",
   "execution_count": null,
   "metadata": {},
   "outputs": [],
   "source": [
    "def safe_read(file_path, file_name):\n",
    "    try:\n",
    "        df = pd.read_csv(file_path, encoding=\"cp949\", index_col=False)\n",
    "\n",
    "    except pd.errors.ParserError: # ParserError 발생하면 해당 행 무시\n",
    "        print(f\"\\\"{file_name}\\\" 에서 ParserError 발생\")\n",
    "        df = pd.read_csv(file_path, encoding=\"cp949\", index_col=False, on_bad_lines=\"skip\") \n",
    "\n",
    "    except UnicodeDecodeError: # UnicodeDecodeError 발생하면 인코딩 방식 변경\n",
    "        print(f\"\\\"{file_name}\\\" 에서 UnicodeDecodeError 발생\")\n",
    "        df = pd.read_csv(file_path, encoding=\"utf8\", index_col=False)\n",
    "        \n",
    "    return df"
   ]
  },
  {
   "cell_type": "code",
   "execution_count": null,
   "metadata": {},
   "outputs": [],
   "source": [
    "input = r\"C:\\Users\\eunyo\\Desktop\\FOM\\environment contest\\기온_습도_미세먼지\\S-DoT_NATURE_2022년\" # 입력 파일들 폴더 경로\n",
    "output = r\"C:\\Users\\eunyo\\Desktop\\FOM\\environment contest\\기온_습도_미세먼지\\전처리\\2022\" #출력 파일 저장할 폴더 경로\n",
    "\n",
    "files = os.listdir(input)\n",
    "\n",
    "dfs = []\n",
    "use = True\n",
    "\n",
    "for file in files:\n",
    "    input_path = os.path.join(input, file) # 입력 파일 경로 설정\n",
    "    \n",
    "    # 파일 가져오기 # 열이 갑자기 많아져서 에러 발생 -> 그 행 무시\n",
    "    df = safe_read(input_path, file)\n",
    "\n",
    "    df = preprocessing(df, file) # 전처리\n",
    "\n",
    "    dfs.append(df)\n",
    "    \n",
    "    # # 개별로 저장\n",
    "    # ouput_path = os.path.join(output, file) # 출력 파일 경로 설정\n",
    "    # df.to_csv(ouput_path, encoding=\"utf8\", index=False) # 파일 저장\n",
    "\n",
    "result_df = pd.concat(dfs, ignore_index=True) # 파일 하나로 합치기\n",
    "\n",
    "ouput_path = os.path.join(output, \"result_2022.csv\") # 출력 파일 경로 설정\n",
    "result_df.to_csv(ouput_path, encoding=\"utf8\", index=False) # 파일 저장"
   ]
  },
  {
   "cell_type": "code",
   "execution_count": null,
   "metadata": {},
   "outputs": [],
   "source": [
    "# 용량이 너무 커서 4등분 함\n",
    "df = pd.read_csv(r\"C:\\Users\\eunyo\\Desktop\\FOM\\environment contest\\기온_습도_미세먼지\\전처리\\2022\\result_2022.csv\")\n",
    "\n",
    "output = r\"C:\\Users\\eunyo\\Desktop\\FOM\\environment contest\\기온_습도_미세먼지\\전처리\\2022\"\n",
    "\n",
    "length = len(df)\n",
    "quarter = length // 4\n",
    "\n",
    "for i in range(4):\n",
    "    res = df.iloc[quarter*i:quarter*(i+1)]\n",
    "\n",
    "    ouput_path = os.path.join(output, f\"result_2022_{i+1}.csv\") # 출력 파일 경로 설정\n",
    "    res.to_csv(ouput_path, encoding=\"utf8\", index=False) # 파일 저장"
   ]
  }
 ],
 "metadata": {
  "kernelspec": {
   "display_name": "Python 3",
   "language": "python",
   "name": "python3"
  },
  "language_info": {
   "codemirror_mode": {
    "name": "ipython",
    "version": 3
   },
   "file_extension": ".py",
   "mimetype": "text/x-python",
   "name": "python",
   "nbconvert_exporter": "python",
   "pygments_lexer": "ipython3",
   "version": "3.10.5"
  }
 },
 "nbformat": 4,
 "nbformat_minor": 2
}
